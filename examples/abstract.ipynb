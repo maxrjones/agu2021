{
 "cells": [
  {
   "cell_type": "markdown",
   "id": "f6196822",
   "metadata": {},
   "source": [
    "# Blend NASA day and night views for AGU abstract\n",
    "\n",
    "Plot a blended image of the NASA Blue and Black marble mosaic images with a general perspective image over the New Orleans Ernest N. Morial Convention Center.\n",
    "\n",
    "Based on code written by Wei Ji Leong in https://github.com/GenericMappingTools/pygmt/issues/1395#issuecomment-891777960.\n",
    "\n",
    "Data References - Global Earth Day/Night Images:\n",
    "\n",
    "- Blue Marble: https://visibleearth.nasa.gov/images/57752/blue-marble-land-surface-shallow-water-and-shaded-topography\n",
    "- Black Marble: https://earthobservatory.nasa.gov/features/NightLights/page3.php\n"
   ]
  },
  {
   "cell_type": "code",
   "execution_count": null,
   "id": "fb520cba",
   "metadata": {},
   "outputs": [],
   "source": [
    "import pygmt"
   ]
  },
  {
   "cell_type": "code",
   "execution_count": null,
   "id": "9cce25ba",
   "metadata": {},
   "outputs": [],
   "source": [
    "#Set the resolution to 2 arc minutes (30s used in abstract)\n",
    "res = \"02m\" "
   ]
  },
  {
   "cell_type": "code",
   "execution_count": null,
   "id": "430e587e",
   "metadata": {
    "scrolled": true
   },
   "outputs": [],
   "source": [
    "# Use the location of the Sun at 6.30am (sunrise) on 13 Dec 2021, Central Standard Time (UTC-6)\n",
    "!gmt solar -C -o0:1 -I+d2021-12-13T06:30+z-6  # -8.95331142671\t-23.1626971083"
   ]
  },
  {
   "cell_type": "code",
   "execution_count": null,
   "id": "fb2afb11",
   "metadata": {},
   "outputs": [],
   "source": [
    "# Make a global grid with a smooth 2-degree transition across day/night boundary.\n",
    "!gmt grdmath -Rd -I$res -r -8.95331142671 -23.1626971083 2 DAYNIGHT = w.nc"
   ]
  },
  {
   "cell_type": "code",
   "execution_count": null,
   "id": "31272069",
   "metadata": {},
   "outputs": [],
   "source": [
    "# Create an intensity grid based on a DEM so that we can see structures in the oceans\n",
    "pygmt.grdgradient(grid=f\"@earth_relief_{res}\", normalize=\"t0.5\", azimuth=45, outgrid=\"intens.nc\")\n",
    "# Mask so that the DEM-based intensity is NaN on land\n",
    "!gmt grdmath @earth_mask_$res 0 EQ 0 NAN intens.nc MUL = intens_ocean.nc"
   ]
  },
  {
   "cell_type": "code",
   "execution_count": null,
   "id": "c3a1eb66",
   "metadata": {},
   "outputs": [],
   "source": [
    "# Blend the earth_day and earth_night geotiffs using the weights, so that when w is 1\n",
    "# we get the earth_day, and then adjust colors based on the intensity.\n",
    "!gmt grdmix @earth_day_$res @earth_night_$res -Ww.nc -Gview.tif -Iintens_ocean.nc"
   ]
  },
  {
   "cell_type": "code",
   "execution_count": null,
   "id": "83f00181",
   "metadata": {},
   "outputs": [],
   "source": [
    "# Plot this image on an Earth with view from over New Orleans Ernest N. Morial Convention Center\n",
    "fig = pygmt.Figure()\n",
    "fig.grdimage(\n",
    "    grid=\"view.tif\",\n",
    "    # General Perspective lon0/lat0/width+z<altitude>+a<azimuth>+t<tilt>+w<twist>+v<vwidth>/<vheight>\n",
    "    projection=\"G-90.0631825/29.9395386/25c+z3000+a345+t10+w-30+v90/60\",\n",
    "    verbose=\"e\"\n",
    ")\n",
    "fig.logo(position=\"jTR+w3c\")\n",
    "fig.show()"
   ]
  },
  {
   "cell_type": "code",
   "execution_count": null,
   "id": "a421bb27",
   "metadata": {},
   "outputs": [],
   "source": [
    "# Save the figure\n",
    "fig.savefig(fname=\"figures/agu2021_abstract.png\")"
   ]
  }
 ],
 "metadata": {
  "jupytext": {
   "formats": "ipynb,py:percent"
  },
  "kernelspec": {
   "display_name": "Python 3 (ipykernel)",
   "language": "python",
   "name": "python3"
  },
  "language_info": {
   "codemirror_mode": {
    "name": "ipython",
    "version": 3
   },
   "file_extension": ".py",
   "mimetype": "text/x-python",
   "name": "python",
   "nbconvert_exporter": "python",
   "pygments_lexer": "ipython3",
   "version": "3.9.7"
  }
 },
 "nbformat": 4,
 "nbformat_minor": 5
}
