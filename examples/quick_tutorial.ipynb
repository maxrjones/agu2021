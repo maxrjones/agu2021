{
 "cells": [
  {
   "cell_type": "markdown",
   "id": "38cbc96b",
   "metadata": {},
   "source": [
    "## Quick introduction to making maps with PyGMT\n",
    "\n",
    "The tutorial introduces the plotting functionality provided by [PyGMT](https://www.pygmt.org/), which is an [open source](https://github.com/GenericMappingTools/pygmt) Python library for geospatial processing, analysis, and visualization.\n",
    "\n",
    "### Why use PyGMT?\n",
    "\n",
    "- Process, analyze, and plot Cartesian, geographic, and/or time-series data\n",
    "- Work with NumPy, pandas, xarray, and GeoPandas objects\n",
    "- Display analysis and visualizations in Jupyter Notebooks\n",
    "- Interact with a [supportive community](https://forum.generic-mapping-tools.org/) of geospatial enthusiasts\n",
    "\n",
    "### Import PyGMT module\n",
    "\n",
    "Run the following code cell to import the PyGMT module."
   ]
  },
  {
   "cell_type": "code",
   "execution_count": null,
   "id": "2349e35f",
   "metadata": {},
   "outputs": [],
   "source": [
    "import pygmt"
   ]
  },
  {
   "cell_type": "markdown",
   "id": "6256a1ee",
   "metadata": {},
   "source": [
    "### Task 1: Create a simple basemap\n",
    "\n",
    "The [Figure](https://www.pygmt.org/latest/api/generated/pygmt.Figure.html#pygmt.Figure) class is central to all plotting in PyGMT. The following creates an instance of the pygmt.Figure class."
   ]
  },
  {
   "cell_type": "code",
   "execution_count": null,
   "id": "0a04a35a",
   "metadata": {},
   "outputs": [],
   "source": [
    "fig = pygmt.Figure()"
   ]
  },
  {
   "cell_type": "markdown",
   "id": "1b7343a6",
   "metadata": {},
   "source": [
    "Here, we'll create a simple basemap using the [pygmt.Figure.basemap](https://www.pygmt.org/latest/api/generated/pygmt.Figure.basemap.html#pygmt.Figure.basemap) method. We'll use these three parameters to control the basemap appearance:\n",
    "\n",
    "- The ``region`` parameter.\n",
    "  - This parameter controls the boundaries of the plot, usually\n",
    "    by accepting a list in the form `[xmin, xmax, ymin, ymax]`.\n",
    "  - There are a few special options for the ``region`` parameter,\n",
    "    which are detailed in the [region tutorial](https://www.pygmt.org/v0.5.0/tutorials/regions.html).\n",
    "- The ``projection`` parameter.\n",
    "  - This parameter controls how your data are mapped onto a 2D\n",
    "    plot. The control over projection is what sets libraries\n",
    "    like PyGMT apart from libraries focused on\n",
    "    visualizing non-geographic datasets. There are many projections\n",
    "    options listed in the [projections table](https://www.pygmt.org/v0.5.0/projections/index.html#projection-table)\n",
    "    with examples shown in the [projections gallery](https://www.pygmt.org/v0.5.0/projections/index.html).\n",
    "- The ``frame`` parameter.\n",
    "  - This parameter controls the appearance of the map frame\n",
    "    boundary.\n",
    "  - For simple, automatic frame settings you can use ``frame=True``.\n",
    "  - There's a lot the frame parameter can do, which is detailed in the [frame tutorial](https://www.pygmt.org/v0.5.0/tutorials/frames.html).\n",
    "    \n",
    "After adding a basemap, we'll display the figure using the [pygmt.Figure.show](https://www.pygmt.org/latest/api/generated/pygmt.Figure.basemap.html#pygmt.Figure.show) method.\n"
   ]
  },
  {
   "cell_type": "code",
   "execution_count": null,
   "id": "574d0699",
   "metadata": {},
   "outputs": [],
   "source": [
    "fig.basemap(region=[-180, 180, -70, 70], projection=\"M20c\", frame=True)\n",
    "fig.show()"
   ]
  },
  {
   "cell_type": "markdown",
   "id": "a67c2c50",
   "metadata": {},
   "source": [
    "### Task 2: Plot coastlines\n",
    "\n",
    "We start off by creating a figure instance and adding a basemap, as in Task 1. This time, we'll use a shortcut for specifying a global map and the [Hammer](https://www.pygmt.org/v0.5.0/projections/misc/misc_hammer.html#sphx-glr-projections-misc-misc-hammer-py) projection. We'll then add coastlines using the [pygmt.Figure.coast](https://www.pygmt.org/latest/api/generated/pygmt.Figure.coast.html#pygmt.Figure.coast) method.\n"
   ]
  },
  {
   "cell_type": "code",
   "execution_count": null,
   "id": "cd8daf23",
   "metadata": {},
   "outputs": [],
   "source": [
    "fig = pygmt.Figure()\n",
    "fig.basemap(region=\"d\", projection=\"H20c\", frame=True)\n",
    "fig.coast(shorelines=True)\n",
    "fig.show()"
   ]
  },
  {
   "cell_type": "markdown",
   "id": "ab629959",
   "metadata": {},
   "source": [
    "We can use more parameters in the coast method to color lakes, rivers, land, or water."
   ]
  },
  {
   "cell_type": "code",
   "execution_count": null,
   "id": "681a3080",
   "metadata": {},
   "outputs": [],
   "source": [
    "fig = pygmt.Figure()\n",
    "fig.basemap(region=\"d\", projection=\"H20c\", frame=True)\n",
    "fig.coast(shorelines=True, land=\"darkgreen\", water=\"lightsteelblue2\")\n",
    "fig.show()"
   ]
  },
  {
   "cell_type": "markdown",
   "id": "78e1c4b4",
   "metadata": {},
   "source": [
    "### Task 3: Plot earth relief\n",
    "\n",
    "After creating a new figure instance, we'll use the [pygmt.Figure.grdimage](https://www.pygmt.org/latest/api/generated/pygmt.Figure.grdimage.html#pygmt.Figure.grdimage) method to plot the SRTM15+V2.1 grid (Tozer et al., 2019), accessed through PyGMT's [remote dataset](https://www.generic-mapping-tools.org/remote-datasets/) functionality."
   ]
  },
  {
   "cell_type": "code",
   "execution_count": null,
   "id": "8914520a",
   "metadata": {},
   "outputs": [],
   "source": [
    "fig = pygmt.Figure()\n",
    "fig.basemap(frame=True, projection=\"H20c\", region=\"d\")\n",
    "fig.grdimage(grid=\"@earth_relief_20m\", shading=True)\n",
    "fig.show()"
   ]
  },
  {
   "cell_type": "markdown",
   "id": "215cb3b1",
   "metadata": {},
   "source": [
    "### Find out more!\n",
    "\n",
    "* Look through the [API documentation for pygmt.Figure](https://www.pygmt.org/dev/api/generated/pygmt.Figure.html#pygmt.Figure)!\n",
    "* Try out the [PyGMT tutorials](https://www.pygmt.org/latest/tutorials/index.html)!\n",
    "* Check out the [PyGMT gallery](https://www.pygmt.org/latest/gallery/index.html)!\n",
    "* Reach out to the PyGMT Community at the [Q&A Forum](https://forum.generic-mapping-tools.org/c/questions/pygmt-q-a/11).\n",
    "                                                    "
   ]
  }
 ],
 "metadata": {
  "jupytext": {
   "formats": "ipynb,py:percent"
  },
  "kernelspec": {
   "display_name": "Python 3 (ipykernel)",
   "language": "python",
   "name": "python3"
  },
  "language_info": {
   "codemirror_mode": {
    "name": "ipython",
    "version": 3
   },
   "file_extension": ".py",
   "mimetype": "text/x-python",
   "name": "python",
   "nbconvert_exporter": "python",
   "pygments_lexer": "ipython3",
   "version": "3.9.7"
  }
 },
 "nbformat": 4,
 "nbformat_minor": 5
}
