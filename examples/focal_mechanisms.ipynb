{
 "cells": [
  {
   "cell_type": "markdown",
   "id": "757f7522",
   "metadata": {},
   "source": [
    "# Plot focal mechanisms using PyGMT\n",
    "\n",
    "Based on example by Federico Esteban at https://docs.generic-mapping-tools.org/latest/animations/anim14.html.\n",
    "\n",
    "Data are from the [Global Centroid-Moment-Tensor (CMT)](https://www.globalcmt.org/) Project:\n",
    "* Dziewonski, A. M., T.-A. Chou and J. H. Woodhouse, Determination of earthquake source parameters from waveform data for studies of global and regional seismicity, J. Geophys. Res., 86, 2825-2852, 1981. doi:10.1029/JB086iB04p02825\n",
    "* Ekström, G., M. Nettles, and A. M. Dziewonski, The global CMT project 2004-2010: Centroid-moment tensors for 13,017 earthquakes, Phys. Earth Planet. Inter., 200-201, 1-9, 2012. doi:10.1016/j.pepi.2012.04.002)"
   ]
  },
  {
   "cell_type": "code",
   "execution_count": null,
   "id": "39e8eb3f",
   "metadata": {},
   "outputs": [],
   "source": [
    "import pandas as pd\n",
    "import pygmt"
   ]
  },
  {
   "cell_type": "code",
   "execution_count": null,
   "id": "92fd4c10",
   "metadata": {
    "scrolled": true
   },
   "outputs": [],
   "source": [
    "# Select points for the cross section\n",
    "profile = pd.DataFrame(data={'x': [-75.02, -63.65], 'y': [-33.5, -31]})\n",
    "profile.to_csv('profile.txt', sep=',', header=None, index=False)\n",
    "#np.array([[-111.6, -43.0], [-113.3, -47.5]])\n",
    "#profile.tofile('profile.txt', sep=',')\n",
    "# Extract data inside/outside profile\n",
    "pygmt.select(data=\"@GCMT_1976-2017_meca.gmt\", L=\"profile.txt+d100k+p\", coltypes=\"g\", outfile=\"GCMT_1976-2017_meca_in.txt\")\n",
    "pygmt.select(data=\"@GCMT_1976-2017_meca.gmt\", L=\"profile.txt+d100k+p\", coltypes=\"g\", reverse=\"l\", outfile=\"GCMT_1976-2017_meca_out.txt\")"
   ]
  },
  {
   "cell_type": "code",
   "execution_count": null,
   "id": "1c1c1c31",
   "metadata": {},
   "outputs": [],
   "source": [
    "# Create figure\n",
    "fig = pygmt.Figure()\n",
    "# Adjust figure configuration\n",
    "pygmt.config(GMT_VERBOSE=\"e\", FONT_ANNOT_PRIMARY=\"18p\", MAP_FRAME_PEN=\"thin,black\", MAP_GRID_PEN=\"faint,gray\")\n",
    "# Create a colormap for earthquake depths\n",
    "pygmt.makecpt(series=[0, 190], cmap=\"hot\", reverse=True)\n",
    "# Plot a basemap for the focal mechanism cross-sections\n",
    "fig.basemap(region=[0, 1100, 0, 190], projection=\"X22.73i/-2.7i\", frame=[\"g25\", \"wESn\", 'xaf+l\"Distance (km)\"', 'yaf+l\"Depth (km)\"'])\n",
    "# Plot the focal mechanism cross-sections\n",
    "with pygmt.clib.Session() as lib:\n",
    "    file_context = lib.virtualfile_from_data(\n",
    "        check_kind=\"vector\", data=\"GCMT_1976-2017_meca_in.txt\", x=None, y=None, extra_arrays=None\n",
    "    )\n",
    "    with file_context as fname:\n",
    "        lib.call_module(\"coupe\", f\"{fname} -Aa-75.02/-33.5/-63.65/-31+w100k -Q -Sc0.5c+f0 -C -Wfaint\")\n",
    "#Shift the plot origin to create a new subplot\n",
    "fig.shift_origin(yshift=\"h+0.3i\")\n",
    "# Plot earth relief data for the region\n",
    "fig.grdimage(grid=\"@earth_relief_10m\", cmap=\"oleron\", shading=\"+nt1.2\", region=[-75.1, -63, -34.44, -30.35], projection=\"M22.73i\", frame=[\"wsNE\", \"a2f1\"])\n",
    "# Create a colormap for earthquake depths\n",
    "pygmt.makecpt(series=[0, 190], cmap=\"hot\", reverse=True)\n",
    "# Plot the earthquake focal mechanisms\n",
    "fig.meca(spec=\"GCMT_1976-2017_meca_in.txt\", C=True, convention=\"gcmt\", scale=\"0.5c+f0\")\n",
    "fig.meca(spec=\"GCMT_1976-2017_meca_out.txt\", convention=\"gcmt\", scale=\"0.5c+f0\")\n",
    "# Add citations\n",
    "fig.text(text=r\"Based on GMT Animation 14 by F. Esteban (https://youtu.be/Wk58r72g_nk)\", position=\"cBR+jBR\", font=\"16p,Helvetica,white\", offset=\"-0.25i/0.6i\", no_clip=True)\n",
    "fig.text(text=r\"Data from the Global Centroid-Moment-Tensor (CMT) Project (Ekström et al., 2012)\", position=\"cBR+jBR\", font=\"16p,Helvetica,white\", offset=\"-0.25i/0.25i\", no_clip=True)# Display the figure\n",
    "# Display the figure\n",
    "fig.show()"
   ]
  },
  {
   "cell_type": "code",
   "execution_count": null,
   "id": "f83c657a",
   "metadata": {},
   "outputs": [],
   "source": [
    "# Save the figure\n",
    "fig.savefig(\"figures/focal_mechanisms.png\")"
   ]
  }
 ],
 "metadata": {
  "jupytext": {
   "formats": "ipynb,auto:percent"
  },
  "kernelspec": {
   "display_name": "Python 3 (ipykernel)",
   "language": "python",
   "name": "python3"
  },
  "language_info": {
   "codemirror_mode": {
    "name": "ipython",
    "version": 3
   },
   "file_extension": ".py",
   "mimetype": "text/x-python",
   "name": "python",
   "nbconvert_exporter": "python",
   "pygments_lexer": "ipython3",
   "version": "3.9.7"
  }
 },
 "nbformat": 4,
 "nbformat_minor": 5
}
