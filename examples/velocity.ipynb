{
 "cells": [
  {
   "cell_type": "markdown",
   "id": "97329f64",
   "metadata": {},
   "source": [
    "# Plot velocity vectors using PyGMT\n",
    "Based on example by Leonardo Uieda in https://github.com/leouieda/aogs2018-gmtpython.\n",
    "\n",
    "Data downloaded from https://data.unavco.org/archive/gnss/products/velocity/; This material is based on services provided by the GAGE Facility, operated by UNAVCO, Inc., with support from the National Science Foundation and the National Aeronautics and Space Administration under NSF Cooperative Agreement EAR-1724794.\""
   ]
  },
  {
   "cell_type": "markdown",
   "id": "c50c27c1",
   "metadata": {},
   "source": [
    "## Process the data to make it easier to plot"
   ]
  },
  {
   "cell_type": "code",
   "execution_count": null,
   "id": "cb6437e7",
   "metadata": {},
   "outputs": [],
   "source": [
    "import numpy as np\n",
    "import pandas as pd\n",
    "import pygmt"
   ]
  },
  {
   "cell_type": "code",
   "execution_count": null,
   "id": "9c83df6b",
   "metadata": {},
   "outputs": [],
   "source": [
    "data = pd.read_csv('data/cwu.final_nam14.vel', skiprows=35, delim_whitespace=True)\n",
    "data.head()"
   ]
  },
  {
   "cell_type": "code",
   "execution_count": null,
   "id": "b004e6c7",
   "metadata": {},
   "outputs": [],
   "source": [
    "# Remove the large East velocities\n",
    "data = data[data['dE/dt'].abs() < 0.05]"
   ]
  },
  {
   "cell_type": "code",
   "execution_count": null,
   "id": "90a8fa47",
   "metadata": {},
   "outputs": [],
   "source": [
    "# Calculate azimuth and intensity\n",
    "azimuth = np.rad2deg(np.arctan2(data['dE/dt'], data['dN/dt']))\n",
    "velocity = np.hypot(data['dE/dt'], data['dN/dt'])"
   ]
  },
  {
   "cell_type": "code",
   "execution_count": null,
   "id": "75e8efa4",
   "metadata": {},
   "outputs": [],
   "source": [
    "# Store result in a DataFrame\n",
    "data = pd.DataFrame(dict(lon=data.Ref_Elong, lat=data.Ref_Nlat, velocity_east=data['dE/dt'], velocity_north=data['dN/dt'], azimuth=azimuth, velocity=velocity), columns='lon lat velocity_east velocity_north azimuth velocity'.split())\n",
    "data.head()"
   ]
  },
  {
   "cell_type": "markdown",
   "id": "afb0dd01",
   "metadata": {},
   "source": [
    "## Plot the velocity vectors on a general perspective map"
   ]
  },
  {
   "cell_type": "code",
   "execution_count": null,
   "id": "99a2434a",
   "metadata": {},
   "outputs": [],
   "source": [
    "# Format the argument for the map projection\n",
    "proj = ('G{lon}/{lat}/20i+z{alt}+a{azim}+t{tilt}+w{twist}+v{width}/{height}'\n",
    "        .format(lon=-138, lat=40, alt=1000, azim=20, tilt=40, \n",
    "                twist=-10, width=142, height=100))"
   ]
  },
  {
   "cell_type": "code",
   "execution_count": null,
   "id": "67d29fd5",
   "metadata": {},
   "outputs": [],
   "source": [
    "# Start a new figure\n",
    "fig = pygmt.Figure()\n",
    "# Configure the background color\n",
    "pygmt.config(PS_PAGE_COLOR=\"#efeeee\", GMT_VERBOSE=\"e\")\n",
    "# Plot a hill shaded image of the builtin topography data\n",
    "fig.grdimage('@earth_relief', region=[-140, -110, 20, 60], \n",
    "             projection=proj, cmap='ocean', shading='+a120+nt1.5')\n",
    "# Fill in the continents with a gray color\n",
    "fig.coast(land='#444444', resolution='i', area_thresh='0/0/1')\n",
    "# Plot the velocity as vectors given an azimuth and length\n",
    "fig.plot(x=data.lon, y=data.lat, direction=(data.azimuth, data.velocity*50),\n",
    "        style='V0.03i+e', color='#eeeeee', pen='thinnest,#eeeeee,solid')\n",
    "# Add citations\n",
    "fig.text(text=r\"Based on Uieda and Wessel (2018)\", position=\"cBL+jTR\", font=\"14p,Helvetica,#111111\", offset=\"20i/7.25i\", no_clip=True)\n",
    "fig.text(text=r\"Data from the GAGE Facility, operated by UNAVCO, Inc.\", position=\"cBL+jTR\", font=\"14p,Helvetica,#111111\", offset=\"20i/7i\", no_clip=True)\n",
    "# Display the figure\n",
    "fig.show(width=\"100%\")"
   ]
  },
  {
   "cell_type": "code",
   "execution_count": null,
   "id": "5a4ce5a6",
   "metadata": {},
   "outputs": [],
   "source": [
    "# Save the example figure\n",
    "fig.savefig(\"figures/vectors.png\")"
   ]
  }
 ],
 "metadata": {
  "jupytext": {
   "formats": "ipynb,py:percent"
  },
  "kernelspec": {
   "display_name": "Python 3 (ipykernel)",
   "language": "python",
   "name": "python3"
  },
  "language_info": {
   "codemirror_mode": {
    "name": "ipython",
    "version": 3
   },
   "file_extension": ".py",
   "mimetype": "text/x-python",
   "name": "python",
   "nbconvert_exporter": "python",
   "pygments_lexer": "ipython3",
   "version": "3.9.7"
  }
 },
 "nbformat": 4,
 "nbformat_minor": 5
}
