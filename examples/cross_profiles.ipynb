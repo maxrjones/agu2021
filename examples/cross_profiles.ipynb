{
 "cells": [
  {
   "cell_type": "markdown",
   "id": "1aafc540",
   "metadata": {},
   "source": [
    "# Stacking automatically generated cross-profiles\n",
    "\n",
    "This example is based on the Generic Mapping Tool's example 33 (https://docs.generic-mapping-tools.org/latest/gallery/ex33.html).\n",
    "\n",
    "Data from Tozer et al., 2019 (http://dx.doi.org/10.1029/2019EA000658) provided via `earth_relief_01m`.\n",
    "\n",
    "import numpy as np\n",
    "import pandas as pd"
   ]
  },
  {
   "cell_type": "code",
   "execution_count": null,
   "id": "7b14454c",
   "metadata": {},
   "outputs": [],
   "source": [
    "import pygmt"
   ]
  },
  {
   "cell_type": "code",
   "execution_count": null,
   "id": "5fc69ea0",
   "metadata": {},
   "outputs": [],
   "source": [
    "# Extract a subset of earth_relief_01m for the East Pacific Rise\n",
    "grid = pygmt.grdcut(\"@earth_relief_01m\", region=[-118, -107, -49, -42])"
   ]
  },
  {
   "cell_type": "code",
   "execution_count": null,
   "id": "b0069c14",
   "metadata": {},
   "outputs": [],
   "source": [
    "# Plot the grid subset\n",
    "fig = pygmt.Figure()\n",
    "pygmt.makecpt(cmap=\"bukavu\", series=[-5000, -2000])\n",
    "fig.grdimage(grid=grid, projection=\"M15c\", shading=\"a15+ne0.75\", frame=True)\n",
    "fig.text(\n",
    "    text=r\"Data from Tozer et al., 2019\",\n",
    "    position=\"cBR\",\n",
    "    offset=\"0/-1.2c\",\n",
    "    font=\"12p,Helvetica\",\n",
    "    no_clip=True,\n",
    ")\n",
    "fig.show()"
   ]
  },
  {
   "cell_type": "code",
   "execution_count": null,
   "id": "da27be2c",
   "metadata": {},
   "outputs": [],
   "source": [
    "# Select two points along the ridge\n",
    "points = np.array([[-111.6, -43.0], [-113.3, -47.5]])"
   ]
  },
  {
   "cell_type": "code",
   "execution_count": null,
   "id": "2da1848d",
   "metadata": {},
   "outputs": [],
   "source": [
    "# Plot ridge segment and end points\n",
    "fig.plot(data=points, pen=\"2p,darkorange\")\n",
    "fig.plot(data=points, style=\"c0.25c\", color=\"darkorange\")\n",
    "fig.show()"
   ]
  },
  {
   "cell_type": "code",
   "execution_count": null,
   "id": "3ed7a6b4",
   "metadata": {},
   "outputs": [],
   "source": [
    "# Generate cross-profiles 400 km long, spaced 10 km, samped every 2km and stack these using the median\n",
    "pygmt.grdtrack(\n",
    "    points=points,\n",
    "    grid=grid,\n",
    "    crossprofile=\"400k/2k/10k+v\",\n",
    "    stack='m+s\"stack.txt\"',\n",
    "    outfile=\"profiles.txt\",\n",
    ")"
   ]
  },
  {
   "cell_type": "code",
   "execution_count": null,
   "id": "16e9f57c",
   "metadata": {
    "scrolled": false
   },
   "outputs": [],
   "source": [
    "# Plot the cross-profiles\n",
    "fig.plot(data=\"profiles.txt\", pen=\"0.75p\")\n",
    "fig.show()"
   ]
  },
  {
   "cell_type": "code",
   "execution_count": null,
   "id": "11ed0b18",
   "metadata": {
    "scrolled": false
   },
   "outputs": [],
   "source": [
    "# Create an envelope\n",
    "upper = pd.read_csv(\n",
    "    \"stack.txt\", sep=\"\\t\", header=None, usecols=[0, 5], names=[\"Distance\", \"Value\"]\n",
    ")\n",
    "lower = pd.read_csv(\n",
    "    \"stack.txt\", sep=\"\\t\", header=None, usecols=[0, 6], names=[\"Distance\", \"Value\"]\n",
    ")\n",
    "envelope = pd.concat([upper, lower[::-1]], ignore_index=True)"
   ]
  },
  {
   "cell_type": "code",
   "execution_count": null,
   "id": "f80c85f9",
   "metadata": {},
   "outputs": [],
   "source": [
    "fig.shift_origin(yshift=\"h+2c\")\n",
    "fig.plot(\n",
    "    data=envelope,\n",
    "    region=[-200, 200, -3500, -2000],\n",
    "    projection=\"X15c/7.5c\",\n",
    "    color=\"lightgrey\",\n",
    "    frame=['xafg1000+l\"Distance from ridge (km)\"', 'yaf+l\"Depth (m)\"', \"WSNE\"],\n",
    ")\n",
    "fig.plot(\n",
    "    data=\"stack.txt\",\n",
    "    region=[-200, 200, -3500, -2000],\n",
    "    projection=\"X15c/7.5c\",\n",
    "    pen=\"3p\",\n",
    "    frame=['xafg1000+l\"Distance from ridge (km)\"', 'yaf+l\"Depth (m)\"', \"WSNE\"],\n",
    ")\n",
    "fig.show()"
   ]
  },
  {
   "cell_type": "code",
   "execution_count": null,
   "id": "a21059d5",
   "metadata": {},
   "outputs": [],
   "source": [
    "# Save the example figure\n",
    "fig.savefig(\"figures/profiles_ex33.png\")"
   ]
  }
 ],
 "metadata": {
  "jupytext": {
   "formats": "ipynb,py:percent"
  },
  "kernelspec": {
   "display_name": "Python 3 (ipykernel)",
   "language": "python",
   "name": "python3"
  },
  "language_info": {
   "codemirror_mode": {
    "name": "ipython",
    "version": 3
   },
   "file_extension": ".py",
   "mimetype": "text/x-python",
   "name": "python",
   "nbconvert_exporter": "python",
   "pygments_lexer": "ipython3",
   "version": "3.9.7"
  }
 },
 "nbformat": 4,
 "nbformat_minor": 5
}
