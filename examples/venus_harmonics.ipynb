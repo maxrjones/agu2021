{
 "cells": [
  {
   "cell_type": "markdown",
   "id": "fbe2134b",
   "metadata": {},
   "source": [
    "# Evaluation of spherical harmonics coefficients\n",
    "This example is based on the Generic Mapping Tool's example 39 (https://docs.generic-mapping-tools.org/latest/gallery/ex39.html).\n",
    "\n",
    "The data is truncated from http://www.ipgp.fr/~wieczor/SH/VenusTopo180.txt.zip; Wieczorek, M. A., Gravity and topography of the terrestrial planets, Treatise on Geophysics, 10, 165-205, doi:10.1016/B978-044452748-6/00156-5, 2007"
   ]
  },
  {
   "cell_type": "code",
   "execution_count": null,
   "id": "3dcf4b0a",
   "metadata": {},
   "outputs": [],
   "source": [
    "import pygmt"
   ]
  },
  {
   "cell_type": "code",
   "execution_count": null,
   "id": "9a3c5dda",
   "metadata": {},
   "outputs": [],
   "source": [
    "# Evaluate the global grid based on a spherical harmonic model for the topography of Venus based on Wieczorek (2007)\n",
    "# Use three sets of upper order/degrees (30, 90, and 180)\n",
    "grid_30d = pygmt.sph2grd(\n",
    "    data=\"@VenusTopo180.txt\", spacing=1, region=\"g\", N=\"g\", F=\"1/1/25/30\"\n",
    ")\n",
    "grid_90d = pygmt.sph2grd(\n",
    "    data=\"@VenusTopo180.txt\", spacing=1, region=\"g\", N=\"g\", F=\"1/1/25/90\"\n",
    ")\n",
    "grid_180d = pygmt.sph2grd(\n",
    "    data=\"@VenusTopo180.txt\", spacing=1, region=\"g\", N=\"g\", F=\"1/1/25/180\"\n",
    ")"
   ]
  },
  {
   "cell_type": "code",
   "execution_count": null,
   "id": "f17a965c",
   "metadata": {},
   "outputs": [],
   "source": [
    "# Create a figure\n",
    "fig = pygmt.Figure()\n",
    "# Configure the background color to match the AGU poster\n",
    "pygmt.config(PS_PAGE_COLOR=\"#efeeee\", GMT_VERBOSE=\"e\")\n",
    "# Create a colormap based on the 90 order/degrees model\n",
    "pygmt.grd2cpt(cmap=\"vik+h0\", grid=grid_90d, nlevels=True)\n",
    "# Plot the first example on the bottom right\n",
    "fig.shift_origin(xshift=\"7.5c\")\n",
    "fig.grdimage(\n",
    "    grid=grid_30d,\n",
    "    shading=\"a45+nt0.75\",\n",
    "    projection=\"G90/30/12c\",\n",
    "    frame=\"g\",\n",
    "    region=\"g\",\n",
    "    cmap=True,\n",
    ")\n",
    "# Add citation\n",
    "fig.text(\n",
    "    text=r\"Data based on Wieczorek (2007)\",\n",
    "    position=\"cBL\",\n",
    "    offset=\"-3.5c/0c\",\n",
    "    font=\"12p,Helvetica\",\n",
    "    no_clip=True,\n",
    ")\n",
    "# Create a colorbar\n",
    "fig.colorbar(frame=[\"xaf\", 'y+l\"m\"'], position=\"x3c/-0.5c+jTC+w13c/0.25c+h\")\n",
    "# Plot the second example shifted upwards with a title\n",
    "fig.shift_origin(xshift=\"-3c\", yshift=\"5c\")\n",
    "pygmt.config(MAP_TITLE_OFFSET=\"5.5c\")\n",
    "fig.grdimage(\n",
    "    grid=grid_90d,\n",
    "    shading=\"a45+nt0.75\",\n",
    "    frame=[\"g\", '+t\"Venus Spherical Harmonic Model\"'],\n",
    "    cmap=True,\n",
    ")\n",
    "# Plot the third example shifted updwards\n",
    "fig.shift_origin(xshift=\"-3c\", yshift=\"5c\")\n",
    "fig.grdimage(grid=grid_180d, shading=\"a45+nt0.75\", frame=\"g\", cmap=True)\n",
    "fig.show()"
   ]
  },
  {
   "cell_type": "code",
   "execution_count": null,
   "id": "b817db1a",
   "metadata": {},
   "outputs": [],
   "source": [
    "# Save the example figure\n",
    "fig.savefig(\"figures/harmonics_ex39.png\")"
   ]
  }
 ],
 "metadata": {
  "jupytext": {
   "formats": "ipynb,py:percent"
  },
  "kernelspec": {
   "display_name": "Python 3 (ipykernel)",
   "language": "python",
   "name": "python3"
  },
  "language_info": {
   "codemirror_mode": {
    "name": "ipython",
    "version": 3
   },
   "file_extension": ".py",
   "mimetype": "text/x-python",
   "name": "python",
   "nbconvert_exporter": "python",
   "pygments_lexer": "ipython3",
   "version": "3.9.7"
  }
 },
 "nbformat": 4,
 "nbformat_minor": 5
}
