{
 "cells": [
  {
   "cell_type": "markdown",
   "id": "73b03081",
   "metadata": {},
   "source": [
    "# Blend NASA day and night views for AGU poster background\n",
    "Data References - Global Earth Day/Night Images:\n",
    "\n",
    "- Blue Marble: https://visibleearth.nasa.gov/images/57752/blue-marble-land-surface-shallow-water-and-shaded-topography\n",
    "- Black Marble: https://earthobservatory.nasa.gov/features/NightLights/page3.php"
   ]
  },
  {
   "cell_type": "code",
   "execution_count": null,
   "id": "de20ddfe",
   "metadata": {},
   "outputs": [],
   "source": [
    "import pygmt"
   ]
  },
  {
   "cell_type": "code",
   "execution_count": null,
   "id": "044b9ed0",
   "metadata": {},
   "outputs": [],
   "source": [
    "# Set the resolution to 2 arc minutes\n",
    "res = \"05m\"\n",
    "region = \"-270/90/-90/90\""
   ]
  },
  {
   "cell_type": "code",
   "execution_count": null,
   "id": "630fe319",
   "metadata": {},
   "outputs": [],
   "source": [
    "# Use the location of the Sun at 09:00 on 13 Dec 2021, Central Standard Time (UTC-6)\n",
    "!gmt solar -C -o0:1 -I+d2021-12-13T09:00+z-6  # -46.4410128416 -23.1694592154"
   ]
  },
  {
   "cell_type": "code",
   "execution_count": null,
   "id": "dda5491b",
   "metadata": {},
   "outputs": [],
   "source": [
    "# Make a global grid with a smooth 2-degree transition across day/night boundary.\n",
    "!gmt grdmath -R$region -I$res -r -46.4410128416 -23.1694592154 2 DAYNIGHT = weights.nc"
   ]
  },
  {
   "cell_type": "code",
   "execution_count": null,
   "id": "3a14ceb7",
   "metadata": {},
   "outputs": [],
   "source": [
    "# Cut grids to region\n",
    "pygmt.grdcut(grid=f\"@earth_relief_{res}\", region=region, outgrid=\"relief.nc\")\n",
    "pygmt.grdcut(grid=f\"@earth_day_{res}\", region=region, outgrid=\"day.tif\")\n",
    "pygmt.grdcut(grid=f\"@earth_night_{res}\", region=region, outgrid=\"night.tif\")\n",
    "pygmt.grdcut(grid=f\"@earth_mask_{res}\", region=region, outgrid=\"mask.nc\")"
   ]
  },
  {
   "cell_type": "code",
   "execution_count": null,
   "id": "f40e1e6c",
   "metadata": {},
   "outputs": [],
   "source": [
    "# Create an intensity grid based on a DEM so that we can see structures in the oceans\n",
    "pygmt.grdgradient(grid=\"relief.nc\", normalize=\"t0.5\", azimuth=45, outgrid=\"intens.nc\")\n",
    "# Mask so that the DEM-based intensity is NaN on land\n",
    "!gmt grdmath mask.nc 0 EQ 0 NAN intens.nc MUL = intens_ocean.nc"
   ]
  },
  {
   "cell_type": "code",
   "execution_count": null,
   "id": "c6a28f90",
   "metadata": {},
   "outputs": [],
   "source": [
    "# Blend the earth_day and earth_night geotiffs using the weights, so that when w is 1\n",
    "# we get the earth_day, and then adjust colors based on the intensity.\n",
    "!gmt grdmix day.tif night.tif -Wweights.nc -Gfigures/agu2021_background.png -Iintens_ocean.nc"
   ]
  }
 ],
 "metadata": {
  "jupytext": {
   "formats": "ipynb,py:percent"
  },
  "kernelspec": {
   "display_name": "Python 3 (ipykernel)",
   "language": "python",
   "name": "python3"
  },
  "language_info": {
   "codemirror_mode": {
    "name": "ipython",
    "version": 3
   },
   "file_extension": ".py",
   "mimetype": "text/x-python",
   "name": "python",
   "nbconvert_exporter": "python",
   "pygments_lexer": "ipython3",
   "version": "3.9.7"
  }
 },
 "nbformat": 4,
 "nbformat_minor": 5
}
